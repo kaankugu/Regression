{
 "cells": [
  {
   "cell_type": "code",
   "execution_count": 1,
   "id": "9d887caf",
   "metadata": {},
   "outputs": [],
   "source": [
    "import re\n",
    "import numpy as np\n",
    "import pandas as pd\n",
    "from sklearn.metrics import f1_score\n",
    "from sklearn.metrics import accuracy_score\n",
    "from sklearn.model_selection import train_test_split\n",
    "\n",
    "def import_tweets(filename, header = None):\n",
    "    tweet_dataset =  pd.read_csv(filename, delimiter=',', encoding='latin-1' ,header = header)\n",
    "    tweet_dataset.columns = ['sentiment','id','date','flag','user','text']\n",
    "    for i in ['flag','id','user','date']: del tweet_dataset[i] \n",
    "    tweet_dataset.sentiment = tweet_dataset.sentiment.replace(4,1)\n",
    "    return tweet_dataset\n",
    "\n",
    "\n",
    "def preprocess_tweet(tweet):\n",
    "    tweet.lower()\n",
    "    tweet = re.sub('((www\\.[^\\s]+)|(https?://[^\\s]+))','URL',tweet)\n",
    "    tweet = re.sub('@[^\\s]+','AT_USER', tweet)\n",
    "    tweet = re.sub('[\\s]+', ' ', tweet)\n",
    "    tweet = re.sub(r'#([^\\s]+)', r'\\1', tweet)\n",
    "    return tweet\n",
    "\n",
    "\n",
    "def feature_extraction(data, method = \"tfidf\"):\n",
    "    if method == \"tfidf\":\n",
    "        from sklearn.feature_extraction.text import TfidfVectorizer\n",
    "        tfv=TfidfVectorizer(sublinear_tf=True, stop_words = \"english\")\n",
    "        features=tfv.fit_transform(data)\n",
    "    elif method == \"doc2vec\":\n",
    "        None\n",
    "    else:\n",
    "        return \"Incorrect inputs\"\n",
    "    return features\n",
    "\n",
    "def train_classifier(features, label, classifier = \"logistic_regression\"):\n",
    "    from sklearn.metrics import roc_auc_score \n",
    "    if classifier == \"logistic_regression\": \n",
    "        from sklearn.linear_model import LogisticRegression\n",
    "        model = LogisticRegression(C=1.)\n",
    "    elif classifier == \"naive_bayes\":\n",
    "        from sklearn.naive_bayes import MultinomialNB\n",
    "        model = MultinomialNB()\n",
    "    elif classifier == \"svm\":  \n",
    "        from sklearn.svm import SVC\n",
    "        model = SVC()\n",
    "    else:\n",
    "        print(\"Incorrect selection of classifier\")\n",
    "    model.fit(features, label)\n",
    "    probability_to_be_positive = model.predict(features)\n",
    "    \n",
    "    print (\"f1_score (train data):\" ,f1_score(label, probability_to_be_positive))\n",
    "    print (\"accuracy (train data):\" ,accuracy_score(label, probability_to_be_positive))\n",
    "    print (\"auc (train data):\" , roc_auc_score(label, probability_to_be_positive))\n",
    "\n",
    "\n",
    "\n",
    "\n",
    "tweet_dataset = import_tweets(\"training.csv\")\n",
    "\n",
    "tweet_dataset['text'] = tweet_dataset['text'].apply(preprocess_tweet)\n",
    "\n",
    "x_train,x_test,y_train,y_test = train_test_split(tweet_dataset['text'],tweet_dataset['sentiment'],test_size = 0.30,shuffle = True)\n",
    "\n",
    "\n",
    "\n",
    "\n",
    "features_train = feature_extraction(x_train, method = \"tfidf\") \n",
    "features_test = feature_extraction(x_test, method = \"tfidf\") \n",
    "\n",
    "\n",
    "\n",
    "\n"
   ]
  },
  {
   "cell_type": "code",
   "execution_count": 2,
   "id": "e09a3fa0",
   "metadata": {},
   "outputs": [
    {
     "name": "stdout",
     "output_type": "stream",
     "text": [
      "f1_score (train data): 0.7986276156609068\n",
      "accuracy (train data): 0.7987678571428571\n",
      "auc (train data): 0.7987684456722703\n",
      "None\n",
      "f1_score (train data): 0.7986276156609068\n",
      "accuracy (train data): 0.7987678571428571\n",
      "auc (train data): 0.7987684456722703\n",
      "None\n",
      "f1_score (train data): 0.7986276156609068\n",
      "accuracy (train data): 0.7987678571428571\n",
      "auc (train data): 0.7987684456722703\n",
      "None\n",
      "f1_score (train data): 0.7986276156609068\n",
      "accuracy (train data): 0.7987678571428571\n",
      "auc (train data): 0.7987684456722703\n",
      "None\n",
      "f1_score (train data): 0.7986276156609068\n",
      "accuracy (train data): 0.7987678571428571\n",
      "auc (train data): 0.7987684456722703\n",
      "None\n"
     ]
    }
   ],
   "source": [
    "epochs = 5\n",
    "for t in range(epochs):\n",
    "    print(train_classifier(features_train, y_train, classifier = \"naive_bayes\")) "
   ]
  },
  {
   "cell_type": "code",
   "execution_count": 3,
   "id": "9e3cc930",
   "metadata": {},
   "outputs": [
    {
     "name": "stdout",
     "output_type": "stream",
     "text": [
      "f1_score (train data): 0.8069704026174641\n",
      "accuracy (train data): 0.8081354166666667\n",
      "auc (train data): 0.8081292190962726\n",
      "f1_score (train data): 0.8069704026174641\n",
      "accuracy (train data): 0.8081354166666667\n",
      "auc (train data): 0.8081292190962726\n",
      "f1_score (train data): 0.8069704026174641\n",
      "accuracy (train data): 0.8081354166666667\n",
      "auc (train data): 0.8081292190962726\n",
      "f1_score (train data): 0.8069704026174641\n",
      "accuracy (train data): 0.8081354166666667\n",
      "auc (train data): 0.8081292190962726\n",
      "f1_score (train data): 0.8069704026174641\n",
      "accuracy (train data): 0.8081354166666667\n",
      "auc (train data): 0.8081292190962726\n"
     ]
    }
   ],
   "source": [
    "epochs = 5\n",
    "for t in range(epochs):\n",
    "    train_classifier(features_test, y_test, classifier = \"naive_bayes\")"
   ]
  },
  {
   "cell_type": "code",
   "execution_count": null,
   "id": "19912532",
   "metadata": {},
   "outputs": [],
   "source": []
  }
 ],
 "metadata": {
  "kernelspec": {
   "display_name": "Python 3.9.13 ('base')",
   "language": "python",
   "name": "python3"
  },
  "language_info": {
   "codemirror_mode": {
    "name": "ipython",
    "version": 3
   },
   "file_extension": ".py",
   "mimetype": "text/x-python",
   "name": "python",
   "nbconvert_exporter": "python",
   "pygments_lexer": "ipython3",
   "version": "3.9.13"
  },
  "vscode": {
   "interpreter": {
    "hash": "a70d153c6712dbf70d617484ad7b99edc521e857f7b8f17f3bc78df45ed0e9f2"
   }
  }
 },
 "nbformat": 4,
 "nbformat_minor": 5
}
