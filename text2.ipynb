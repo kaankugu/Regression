{
 "cells": [
  {
   "cell_type": "code",
   "execution_count": 130,
   "id": "87559a6b",
   "metadata": {},
   "outputs": [],
   "source": [
    "import numpy as np \n",
    "import pandas as pd"
   ]
  },
  {
   "cell_type": "code",
   "execution_count": 131,
   "id": "d8b3a890",
   "metadata": {},
   "outputs": [],
   "source": [
    "from sklearn.linear_model import LinearRegression\n",
    "from sklearn.feature_extraction.text import TfidfVectorizer"
   ]
  },
  {
   "cell_type": "code",
   "execution_count": 132,
   "id": "d4802f0b",
   "metadata": {},
   "outputs": [],
   "source": [
    "test_df = pd.read_csv(\"train_data_version3.csv\")\n",
    "valid_df = pd.read_csv(\"train_data_version3.csv\")\n",
    "train_df=pd.read_csv(\"train_data_version3.csv\")"
   ]
  },
  {
   "cell_type": "code",
   "execution_count": 133,
   "id": "2937207d",
   "metadata": {},
   "outputs": [
    {
     "data": {
      "text/html": [
       "<div>\n",
       "<style scoped>\n",
       "    .dataframe tbody tr th:only-of-type {\n",
       "        vertical-align: middle;\n",
       "    }\n",
       "\n",
       "    .dataframe tbody tr th {\n",
       "        vertical-align: top;\n",
       "    }\n",
       "\n",
       "    .dataframe thead th {\n",
       "        text-align: right;\n",
       "    }\n",
       "</style>\n",
       "<table border=\"1\" class=\"dataframe\">\n",
       "  <thead>\n",
       "    <tr style=\"text-align: right;\">\n",
       "      <th></th>\n",
       "      <th>text</th>\n",
       "      <th>y</th>\n",
       "    </tr>\n",
       "  </thead>\n",
       "  <tbody>\n",
       "    <tr>\n",
       "      <th>0</th>\n",
       "      <td>oh why dear johnny boy part one again do you w...</td>\n",
       "      <td>2.08</td>\n",
       "    </tr>\n",
       "    <tr>\n",
       "      <th>1</th>\n",
       "      <td>savant13 is a fat shite</td>\n",
       "      <td>3.58</td>\n",
       "    </tr>\n",
       "    <tr>\n",
       "      <th>2</th>\n",
       "      <td>i am english i am i do not want to get blocked...</td>\n",
       "      <td>0.80</td>\n",
       "    </tr>\n",
       "    <tr>\n",
       "      <th>3</th>\n",
       "      <td>and why the fuck should i care g e t r i d o f...</td>\n",
       "      <td>4.58</td>\n",
       "    </tr>\n",
       "    <tr>\n",
       "      <th>4</th>\n",
       "      <td>yo dear sir james paul you a fruity ass nigga ...</td>\n",
       "      <td>2.08</td>\n",
       "    </tr>\n",
       "    <tr>\n",
       "      <th>...</th>\n",
       "      <td>...</td>\n",
       "      <td>...</td>\n",
       "    </tr>\n",
       "    <tr>\n",
       "      <th>995</th>\n",
       "      <td>cut the shit will you please cut the shit with...</td>\n",
       "      <td>2.08</td>\n",
       "    </tr>\n",
       "    <tr>\n",
       "      <th>996</th>\n",
       "      <td>bollocks i m away off for a while and may be s...</td>\n",
       "      <td>2.08</td>\n",
       "    </tr>\n",
       "    <tr>\n",
       "      <th>997</th>\n",
       "      <td>whoever this is fuck off</td>\n",
       "      <td>0.80</td>\n",
       "    </tr>\n",
       "    <tr>\n",
       "      <th>998</th>\n",
       "      <td>mothafucka you son of a bitch shup up otherwis...</td>\n",
       "      <td>3.58</td>\n",
       "    </tr>\n",
       "    <tr>\n",
       "      <th>999</th>\n",
       "      <td>muslim lover you are scared of islam</td>\n",
       "      <td>0.64</td>\n",
       "    </tr>\n",
       "  </tbody>\n",
       "</table>\n",
       "<p>1000 rows × 2 columns</p>\n",
       "</div>"
      ],
      "text/plain": [
       "                                                  text     y\n",
       "0    oh why dear johnny boy part one again do you w...  2.08\n",
       "1                              savant13 is a fat shite  3.58\n",
       "2    i am english i am i do not want to get blocked...  0.80\n",
       "3    and why the fuck should i care g e t r i d o f...  4.58\n",
       "4    yo dear sir james paul you a fruity ass nigga ...  2.08\n",
       "..                                                 ...   ...\n",
       "995  cut the shit will you please cut the shit with...  2.08\n",
       "996  bollocks i m away off for a while and may be s...  2.08\n",
       "997                           whoever this is fuck off  0.80\n",
       "998  mothafucka you son of a bitch shup up otherwis...  3.58\n",
       "999               muslim lover you are scared of islam  0.64\n",
       "\n",
       "[1000 rows x 2 columns]"
      ]
     },
     "execution_count": 133,
     "metadata": {},
     "output_type": "execute_result"
    }
   ],
   "source": [
    "train_df=train_df[:1000]\n",
    "train_df"
   ]
  },
  {
   "cell_type": "code",
   "execution_count": 134,
   "id": "e14e3c91",
   "metadata": {},
   "outputs": [],
   "source": [
    "train = train_df[[\"y\"]]"
   ]
  },
  {
   "cell_type": "code",
   "execution_count": 135,
   "id": "d393bd6f",
   "metadata": {},
   "outputs": [
    {
     "data": {
      "text/plain": [
       "0      oh why dear johnny boy part one again do you w...\n",
       "1                                savant13 is a fat shite\n",
       "2      i am english i am i do not want to get blocked...\n",
       "3      and why the fuck should i care g e t r i d o f...\n",
       "4      yo dear sir james paul you a fruity ass nigga ...\n",
       "                             ...                        \n",
       "995    cut the shit will you please cut the shit with...\n",
       "996    bollocks i m away off for a while and may be s...\n",
       "997                             whoever this is fuck off\n",
       "998    mothafucka you son of a bitch shup up otherwis...\n",
       "999                 muslim lover you are scared of islam\n",
       "Name: text, Length: 1000, dtype: object"
      ]
     },
     "execution_count": 135,
     "metadata": {},
     "output_type": "execute_result"
    }
   ],
   "source": [
    "train_df[\"text\"]"
   ]
  },
  {
   "cell_type": "code",
   "execution_count": 136,
   "id": "d66f96bc",
   "metadata": {},
   "outputs": [],
   "source": [
    "def feature_extraction(data, method = \"tfidf\"):\n",
    "    if method == \"tfidf\":\n",
    "        from sklearn.feature_extraction.text import TfidfVectorizer\n",
    "        tfv=TfidfVectorizer(sublinear_tf=True, stop_words = \"english\")\n",
    "        features=tfv.fit_transform(data)\n",
    "    elif method == \"doc2vec\":\n",
    "        None\n",
    "    else:\n",
    "        return \"Incorrect inputs\"\n",
    "    return features\n",
    "\n"
   ]
  },
  {
   "cell_type": "code",
   "execution_count": 137,
   "id": "6c6b0175",
   "metadata": {},
   "outputs": [],
   "source": [
    "features_train = feature_extraction(train_df[\"text\"], method = \"tfidf\") \n",
    "features_test = feature_extraction(test_df[\"text\"], method = \"tfidf\") \n"
   ]
  },
  {
   "cell_type": "code",
   "execution_count": 138,
   "id": "5d5c2943",
   "metadata": {},
   "outputs": [],
   "source": [
    "X=features_train\n",
    "Y=train[\"y\"]\n"
   ]
  },
  {
   "cell_type": "code",
   "execution_count": 139,
   "id": "c7eeb827",
   "metadata": {},
   "outputs": [
    {
     "data": {
      "text/plain": [
       "0.9968706352264927"
      ]
     },
     "execution_count": 139,
     "metadata": {},
     "output_type": "execute_result"
    }
   ],
   "source": [
    "reg = LinearRegression().fit(X,Y)\n",
    "reg.score(X,Y)"
   ]
  },
  {
   "cell_type": "code",
   "execution_count": 142,
   "id": "a416075a",
   "metadata": {},
   "outputs": [
    {
     "data": {
      "text/plain": [
       "0.6377053911525004"
      ]
     },
     "execution_count": 142,
     "metadata": {},
     "output_type": "execute_result"
    }
   ],
   "source": [
    "from sklearn.neighbors import KNeighborsRegressor\n",
    "knn = KNeighborsRegressor(n_neighbors=2)\n",
    "knn.fit(X,Y)\n",
    "knn.score(X,Y)\n"
   ]
  },
  {
   "cell_type": "code",
   "execution_count": null,
   "id": "3b6431e9",
   "metadata": {},
   "outputs": [],
   "source": []
  }
 ],
 "metadata": {
  "kernelspec": {
   "display_name": "Python 3 (ipykernel)",
   "language": "python",
   "name": "python3"
  },
  "language_info": {
   "codemirror_mode": {
    "name": "ipython",
    "version": 3
   },
   "file_extension": ".py",
   "mimetype": "text/x-python",
   "name": "python",
   "nbconvert_exporter": "python",
   "pygments_lexer": "ipython3",
   "version": "3.9.13"
  }
 },
 "nbformat": 4,
 "nbformat_minor": 5
}
